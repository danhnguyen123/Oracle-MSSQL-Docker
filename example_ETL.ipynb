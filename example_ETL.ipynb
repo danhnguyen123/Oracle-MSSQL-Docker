{
 "cells": [
  {
   "cell_type": "code",
   "execution_count": 1,
   "metadata": {},
   "outputs": [],
   "source": [
    "import  os, sys, time\n",
    "import pandas as pd\n",
    "from dotenv import load_dotenv\n",
    "load_dotenv()\n",
    "sys.path.append(os.getenv('ROOT_FOLDER'))\n"
   ]
  },
  {
   "cell_type": "code",
   "execution_count": 2,
   "metadata": {},
   "outputs": [],
   "source": [
    "# Custom mudule\n",
    "from oracle_helper import db_oracle\n",
    "import mssql_helper as ms\n",
    "from config import config"
   ]
  },
  {
   "attachments": {},
   "cell_type": "markdown",
   "metadata": {},
   "source": [
    "Read data from Oracle"
   ]
  },
  {
   "cell_type": "code",
   "execution_count": 3,
   "metadata": {},
   "outputs": [],
   "source": [
    "# Create connection to Oracle\n",
    "oracle_engine = db_oracle()"
   ]
  },
  {
   "cell_type": "code",
   "execution_count": 4,
   "metadata": {},
   "outputs": [
    {
     "data": {
      "text/html": [
       "<div>\n",
       "<style scoped>\n",
       "    .dataframe tbody tr th:only-of-type {\n",
       "        vertical-align: middle;\n",
       "    }\n",
       "\n",
       "    .dataframe tbody tr th {\n",
       "        vertical-align: top;\n",
       "    }\n",
       "\n",
       "    .dataframe thead th {\n",
       "        text-align: right;\n",
       "    }\n",
       "</style>\n",
       "<table border=\"1\" class=\"dataframe\">\n",
       "  <thead>\n",
       "    <tr style=\"text-align: right;\">\n",
       "      <th></th>\n",
       "      <th>PROVINCE</th>\n",
       "      <th>LATITUDE</th>\n",
       "      <th>LONGITUDE</th>\n",
       "      <th>SALE</th>\n",
       "    </tr>\n",
       "  </thead>\n",
       "  <tbody>\n",
       "    <tr>\n",
       "      <th>0</th>\n",
       "      <td>Hà Nội</td>\n",
       "      <td>21.0245</td>\n",
       "      <td>105.8412</td>\n",
       "      <td>936568</td>\n",
       "    </tr>\n",
       "    <tr>\n",
       "      <th>1</th>\n",
       "      <td>Bắc Cạn</td>\n",
       "      <td>22.1333</td>\n",
       "      <td>105.8333</td>\n",
       "      <td>851907</td>\n",
       "    </tr>\n",
       "    <tr>\n",
       "      <th>2</th>\n",
       "      <td>Bắc Giang</td>\n",
       "      <td>21.2731</td>\n",
       "      <td>106.1947</td>\n",
       "      <td>344443</td>\n",
       "    </tr>\n",
       "    <tr>\n",
       "      <th>3</th>\n",
       "      <td>Bắc Ninh</td>\n",
       "      <td>21.1861</td>\n",
       "      <td>106.0763</td>\n",
       "      <td>917216</td>\n",
       "    </tr>\n",
       "    <tr>\n",
       "      <th>4</th>\n",
       "      <td>Cao Bẳng</td>\n",
       "      <td>22.6731</td>\n",
       "      <td>106.2500</td>\n",
       "      <td>892913</td>\n",
       "    </tr>\n",
       "    <tr>\n",
       "      <th>...</th>\n",
       "      <td>...</td>\n",
       "      <td>...</td>\n",
       "      <td>...</td>\n",
       "      <td>...</td>\n",
       "    </tr>\n",
       "    <tr>\n",
       "      <th>58</th>\n",
       "      <td>Bạc Liêu</td>\n",
       "      <td>9.2833</td>\n",
       "      <td>105.7167</td>\n",
       "      <td>729828</td>\n",
       "    </tr>\n",
       "    <tr>\n",
       "      <th>59</th>\n",
       "      <td>Cà Mau</td>\n",
       "      <td>9.1833</td>\n",
       "      <td>105.1500</td>\n",
       "      <td>1173615</td>\n",
       "    </tr>\n",
       "    <tr>\n",
       "      <th>60</th>\n",
       "      <td>Hậu Giang</td>\n",
       "      <td>9.7833</td>\n",
       "      <td>105.4708</td>\n",
       "      <td>305354</td>\n",
       "    </tr>\n",
       "    <tr>\n",
       "      <th>61</th>\n",
       "      <td>Long An</td>\n",
       "      <td>10.5322</td>\n",
       "      <td>106.4042</td>\n",
       "      <td>564816</td>\n",
       "    </tr>\n",
       "    <tr>\n",
       "      <th>62</th>\n",
       "      <td>Đồng Nai</td>\n",
       "      <td>10.9575</td>\n",
       "      <td>106.8426</td>\n",
       "      <td>368267</td>\n",
       "    </tr>\n",
       "  </tbody>\n",
       "</table>\n",
       "<p>63 rows × 4 columns</p>\n",
       "</div>"
      ],
      "text/plain": [
       "     PROVINCE  LATITUDE  LONGITUDE     SALE\n",
       "0      Hà Nội   21.0245   105.8412   936568\n",
       "1     Bắc Cạn   22.1333   105.8333   851907\n",
       "2   Bắc Giang   21.2731   106.1947   344443\n",
       "3    Bắc Ninh   21.1861   106.0763   917216\n",
       "4    Cao Bẳng   22.6731   106.2500   892913\n",
       "..        ...       ...        ...      ...\n",
       "58   Bạc Liêu    9.2833   105.7167   729828\n",
       "59     Cà Mau    9.1833   105.1500  1173615\n",
       "60  Hậu Giang    9.7833   105.4708   305354\n",
       "61    Long An   10.5322   106.4042   564816\n",
       "62   Đồng Nai   10.9575   106.8426   368267\n",
       "\n",
       "[63 rows x 4 columns]"
      ]
     },
     "execution_count": 4,
     "metadata": {},
     "output_type": "execute_result"
    }
   ],
   "source": [
    "# Read data   \n",
    "df = oracle_engine.execute_to_df(query= 'SELECT * FROM DWH.MAP_VIETNAM')\n",
    "df"
   ]
  },
  {
   "attachments": {},
   "cell_type": "markdown",
   "metadata": {},
   "source": [
    "Load data to MS SQL"
   ]
  },
  {
   "cell_type": "code",
   "execution_count": 5,
   "metadata": {},
   "outputs": [],
   "source": [
    "# Create connection to MS SQL\n",
    "mssql_engine = config.create_engine_mssql(fast_executemany=True)"
   ]
  },
  {
   "cell_type": "code",
   "execution_count": 6,
   "metadata": {},
   "outputs": [],
   "source": [
    "# Load data to MS SQL\n",
    "ms.mssql_upsert(engine= mssql_engine, update_data= df, table_name= 'map_vietnam', db_schema= 'data_mart', mode= 'overwrite')"
   ]
  }
 ],
 "metadata": {
  "kernelspec": {
   "display_name": "base",
   "language": "python",
   "name": "python3"
  },
  "language_info": {
   "codemirror_mode": {
    "name": "ipython",
    "version": 3
   },
   "file_extension": ".py",
   "mimetype": "text/x-python",
   "name": "python",
   "nbconvert_exporter": "python",
   "pygments_lexer": "ipython3",
   "version": "3.9.7"
  },
  "orig_nbformat": 4
 },
 "nbformat": 4,
 "nbformat_minor": 2
}
